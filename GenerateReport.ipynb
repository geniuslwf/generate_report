{
 "cells": [
  {
   "cell_type": "code",
   "execution_count": 1,
   "id": "2ffef582-d543-4f69-8a95-040f499b7e58",
   "metadata": {},
   "outputs": [],
   "source": [
    "from openpyxl import load_workbook, Workbook"
   ]
  },
  {
   "cell_type": "code",
   "execution_count": null,
   "id": "cb16b906-fc18-4327-a934-53f6ab82e29e",
   "metadata": {},
   "outputs": [],
   "source": [
    "from openpyxl.utils import get_column_letter"
   ]
  },
  {
   "cell_type": "code",
   "execution_count": 2,
   "id": "d9baa8b1-d683-4bdc-91bc-96144aef0c82",
   "metadata": {},
   "outputs": [],
   "source": [
    "from copy import copy"
   ]
  },
  {
   "cell_type": "code",
   "execution_count": 3,
   "id": "74ca731c-00ff-4a02-b36e-2e63e85a7f4b",
   "metadata": {},
   "outputs": [],
   "source": [
    "from collections import defaultdict"
   ]
  },
  {
   "cell_type": "code",
   "execution_count": 4,
   "id": "5b582eb6-6f0d-424e-9091-ecf11677f63a",
   "metadata": {},
   "outputs": [],
   "source": [
    "old_wb = load_workbook(filename='full.xlsx')"
   ]
  },
  {
   "cell_type": "code",
   "execution_count": 5,
   "id": "87d538c6-7cf7-435a-91df-e7b203bdac2d",
   "metadata": {},
   "outputs": [],
   "source": [
    "new_wb = Workbook()"
   ]
  },
  {
   "cell_type": "code",
   "execution_count": 6,
   "id": "f1cf61a5-38f2-49fe-8b4c-48e1c5a82751",
   "metadata": {},
   "outputs": [],
   "source": [
    "old_sheet = old_wb['Detail']"
   ]
  },
  {
   "cell_type": "code",
   "execution_count": 7,
   "id": "5ea1e0de-9eb8-4673-af07-a9c068a527fd",
   "metadata": {},
   "outputs": [],
   "source": [
    "new_sheet = new_wb.active"
   ]
  },
  {
   "cell_type": "code",
   "execution_count": 8,
   "id": "9a352f1b-8dd0-4fde-9203-0192a2698dc4",
   "metadata": {},
   "outputs": [],
   "source": [
    "new_sheet.title = 'Detail'"
   ]
  },
  {
   "cell_type": "code",
   "execution_count": 9,
   "id": "f8b8491e-355c-4b8a-8c1d-ea624e3b8c77",
   "metadata": {},
   "outputs": [],
   "source": [
    "new_sheet.column_dimensions['A'].width = old_sheet.column_dimensions['A'].width"
   ]
  },
  {
   "cell_type": "code",
   "execution_count": 10,
   "id": "42f494c3-22b6-48dd-96cc-9cfe6f00cb95",
   "metadata": {},
   "outputs": [],
   "source": [
    "break_value = 9999999"
   ]
  },
  {
   "cell_type": "code",
   "execution_count": 11,
   "id": "4cdf61a7-4f23-4ab6-afaf-cf0a33dfcb6b",
   "metadata": {},
   "outputs": [],
   "source": [
    "started = False"
   ]
  },
  {
   "cell_type": "code",
   "execution_count": 12,
   "id": "99edf7c5-984e-4d6f-bc02-021bfa392770",
   "metadata": {},
   "outputs": [],
   "source": [
    "title_map = defaultdict(lambda:999)"
   ]
  },
  {
   "cell_type": "code",
   "execution_count": 13,
   "id": "ae2c2cfa-89a3-4cac-805e-83093a7acc33",
   "metadata": {},
   "outputs": [],
   "source": [
    "for idx in range(1, 80):\n",
    "    title = \"\"\n",
    "    for row in (8, 9, 10, 11):\n",
    "        cell = old_sheet.cell(row=row, column=idx)\n",
    "        if cell.value is not None:\n",
    "            title += str(cell.value).strip()\n",
    "    if title:\n",
    "        title_map[title] = idx"
   ]
  },
  {
   "cell_type": "code",
   "execution_count": 14,
   "id": "e824e3ac-5801-41ed-8232-714e4e84d6ce",
   "metadata": {},
   "outputs": [],
   "source": [
    "def copy_cell_style(new_cell, old_cell):\n",
    "    if old_cell.has_style:\n",
    "        new_cell.font = copy(old_cell.font)\n",
    "        new_cell.border = copy(old_cell.border)\n",
    "        new_cell.fill = copy(old_cell.fill)\n",
    "        new_cell.number_format = copy(old_cell.number_format)\n",
    "        new_cell.protection = copy(old_cell.protection)\n",
    "        new_cell.alignment = copy(old_cell.alignment)\n",
    "        new_sheet_column = get_column_letter(new_cell.column)\n",
    "        old_sheet_column = get_column_letter(old_cell.column)\n",
    "        new_sheet.column_dimensions[new_sheet_column].width = max(old_sheet.column_dimensions[old_sheet_column].width, new_sheet.column_dimensions[new_sheet_column].width)"
   ]
  },
  {
   "cell_type": "code",
   "execution_count": 15,
   "id": "26514c44-2753-4db3-98aa-08af25ca4346",
   "metadata": {},
   "outputs": [],
   "source": [
    "idx=1"
   ]
  },
  {
   "cell_type": "code",
   "execution_count": 16,
   "id": "430ebc9d-df23-4bd8-b9cf-be6fd0beb1f6",
   "metadata": {},
   "outputs": [],
   "source": [
    "while True:\n",
    "    cell_a = old_sheet.cell(row=idx, column=1)\n",
    "    if \"employee name\" in str(cell_a.value).lower():\n",
    "        started = True\n",
    "    if started == True:\n",
    "        for column in range(1, 6):\n",
    "            new_cell = new_sheet.cell(row=idx, column=column)\n",
    "            old_cell = old_sheet.cell(row=idx, column=column)\n",
    "            new_cell.value = old_cell.value\n",
    "            # copy cell styles\n",
    "            copy_cell_style(new_cell, old_cell)\n",
    "        # gross wages - total\n",
    "        gross_wages_cell = new_sheet.cell(row=idx, column=6)\n",
    "        old_cell = old_sheet.cell(row=idx, column=title_map['Gross PayAmount'])\n",
    "        if \"employee name\" in str(cell_a.value).lower():\n",
    "            gross_wages_cell.value = 'Gross Wages - Totals'\n",
    "        else:\n",
    "            gross_wages_cell.value = old_cell.value\n",
    "        # copy cell styles\n",
    "        copy_cell_style(gross_wages_cell, old_cell)\n",
    "        # HIGG DepCare Amount\n",
    "        higg_cell = new_sheet.cell(row=idx, column=7)\n",
    "        old_cell = old_sheet.cell(row=idx, column=title_map['DEDUCTION: Return to ClientHIGG DepCareAmount'])\n",
    "        if \"employee name\" in str(cell_a.value).lower():\n",
    "            higg_cell.value = 'HIGG DepCare Amount'\n",
    "        else:\n",
    "            higg_cell.value = old_cell.value\n",
    "        # copy cell styles\n",
    "        copy_cell_style(higg_cell, old_cell)\n",
    "        # Overpayment Amount\n",
    "        overpayment_cell = new_sheet.cell(row=idx, column=8)\n",
    "        old_cell = old_sheet.cell(row=idx, column=title_map['Federal TaxesAmount'])\n",
    "        if \"employee name\" in str(cell_a.value).lower():\n",
    "            overpayment_cell.value = 'Overpayment Amount'\n",
    "        else:\n",
    "            overpayment_cell.value = old_cell.value\n",
    "        # copy cell styles\n",
    "        copy_cell_style(overpayment_cell, old_cell)\n",
    "        # Retro Benefits Amount\n",
    "        retro_cell = new_sheet.cell(row=idx, column=9)\n",
    "        old_cell = old_sheet.cell(row=idx, column=title_map['Retro BenefitsAmount'])\n",
    "        if \"employee name\" in str(cell_a.value).lower():\n",
    "            retro_cell.value = 'Retro Benefits Amount'\n",
    "        else:\n",
    "            retro_cell.value = old_cell.value\n",
    "        # copy cell styles\n",
    "        copy_cell_style(retro_cell, old_cell)\n",
    "        # Taxes - EE - Totals\n",
    "        taxes_ee_cell = new_sheet.cell(row=idx, column=10)\n",
    "        if \"employee name\" in str(cell_a.value).lower():\n",
    "            taxes_ee_cell.value = 'Taxes - EE - Totals'\n",
    "            old_cell = old_sheet.cell(row=idx, column=title_map['Federal TaxesAmount'])\n",
    "        else:\n",
    "            old_columns = (\n",
    "                title_map['Federal TaxesAmount'],\n",
    "                title_map['MedicareAmount'],\n",
    "                title_map['SDIAmount'],\n",
    "                title_map['SITAmount'],\n",
    "                title_map['SocSecAmount'],\n",
    "            )\n",
    "            value = 0\n",
    "            for number in old_columns:\n",
    "                old_cell = old_sheet.cell(row=idx, column=number)\n",
    "                if type(old_cell.value) in (int, float):\n",
    "                    value += old_cell.value\n",
    "            if float(value) != 0:\n",
    "                taxes_ee_cell.value = value\n",
    "        copy_cell_style(taxes_ee_cell, old_cell)\n",
    "        # Health Benefits - EE - Totals\n",
    "        health_ee_cell = new_sheet.cell(row=idx, column=11)\n",
    "        if \"employee name\" in str(cell_a.value).lower():\n",
    "            health_ee_cell.value = 'Health Benefits - EE - Totals'\n",
    "            old_cell = old_sheet.cell(row=idx, column=title_map['DEDUCTION: Return to ClientHIGG DepCareAmount'])\n",
    "        else:\n",
    "            old_columns = (\n",
    "                title_map['DEDUCTION: Return to Insperity401K PlanAmount'],\n",
    "                title_map['401K RothAmount'],\n",
    "                title_map['DEDUCTION: Return to 3rd PartyCigna Life InsuAmount'],\n",
    "                title_map['Cigna PersonalAmount'],\n",
    "                title_map['Dependent D/VAmount'],\n",
    "                title_map['Dependent MedAmount'],\n",
    "                title_map['Employee D/VAmount'],\n",
    "                title_map['Employee MedAmount'],\n",
    "            )\n",
    "            value = 0\n",
    "            for number in old_columns:\n",
    "                old_cell = old_sheet.cell(row=idx, column=number)\n",
    "                if type(old_cell.value) in (int, float):\n",
    "                    value += old_cell.value\n",
    "            if float(value) != 0:\n",
    "                health_ee_cell.value = value\n",
    "        copy_cell_style(health_ee_cell, old_cell)\n",
    "        # Net Pay\n",
    "        net_pay_cell = new_sheet.cell(row=idx, column=12)\n",
    "        old_cell = old_sheet.cell(row=idx, column=title_map['Net PayAmount'])\n",
    "        if \"employee name\" in str(cell_a.value).lower():\n",
    "            net_pay_cell.value = 'Net Pay'\n",
    "        else:\n",
    "            net_pay_cell.value = old_cell.value\n",
    "        copy_cell_style(net_pay_cell, old_cell)\n",
    "        # Payroll Taxes Allocation\n",
    "        payrall_tax_cell = new_sheet.cell(row=idx, column=13)\n",
    "        if \"employee name\" in str(cell_a.value).lower():\n",
    "            payrall_tax_cell.value = 'Taxes - ER - Totals'\n",
    "            old_cell = old_sheet.cell(row=idx, column=title_map['OVERHEADPayroll TaxesAllocation'])\n",
    "        else:\n",
    "            old_columns = (title_map['OVERHEADPayroll TaxesAllocation'],)\n",
    "            value = 0\n",
    "            for number in old_columns:\n",
    "                old_cell = old_sheet.cell(row=idx, column=number)\n",
    "                if type(old_cell.value) in (int, float):\n",
    "                    value += old_cell.value\n",
    "            if float(value) != 0:\n",
    "                payrall_tax_cell.value = value\n",
    "        copy_cell_style(payrall_tax_cell, old_cell)\n",
    "        # Employer Paid Benefits\n",
    "        benefits_cell = new_sheet.cell(row=idx, column=14)\n",
    "        if \"employee name\" in str(cell_a.value).lower():\n",
    "            benefits_cell.value = 'Employer Paid Benefits - Totals'\n",
    "            old_cell = old_sheet.cell(row=idx, column=title_map['BenefitsAllocation'])\n",
    "        else:\n",
    "            add_columns = (\n",
    "                title_map['BenefitsAllocation'],\n",
    "                title_map['CHARGE: Invoice ChargeMissed MedicalAmount'],\n",
    "                title_map['401k Employer Match (NSP)Amount'],\n",
    "            )\n",
    "            value = 0\n",
    "            for number in add_columns:\n",
    "                old_cell = old_sheet.cell(row=idx, column=number)\n",
    "                if type(old_cell.value) in (int, float):\n",
    "                    value += old_cell.value\n",
    "            if float(value) != 0:\n",
    "                benefits_cell.value = value\n",
    "        copy_cell_style(benefits_cell, old_cell)\n",
    "        # W/C & EPLI Allocation\n",
    "        wc_cell = new_sheet.cell(row=idx, column=15)\n",
    "        old_cell = old_sheet.cell(row=idx, column=title_map['W/C & EPLIAllocation'])\n",
    "        if \"employee name\" in str(cell_a.value).lower():\n",
    "            wc_cell.value = 'Workers Comp Fee - Totals'\n",
    "        else:\n",
    "            wc_cell.value = old_cell.value\n",
    "        copy_cell_style(wc_cell, old_cell)\n",
    "        # Fees Total\n",
    "        fees_cell = new_sheet.cell(row=idx, column=16)\n",
    "        if \"employee name\" in str(cell_a.value).lower():\n",
    "            fees_cell.value = 'Fees - Totals'\n",
    "            old_cell = old_sheet.cell(row=idx, column=title_map['Co-Emp. Risk ChargeAllocation'])\n",
    "        else:\n",
    "            old_columns = (\n",
    "                title_map['Co-Emp. Risk ChargeAllocation'],\n",
    "                title_map['Insperity Services TechnologyAllocation'],\n",
    "                title_map['Missed AdminAmount'],\n",
    "                title_map['CHARGE: Selected ServicesSelected ServicesAmount'],\n",
    "            )\n",
    "            value = 0\n",
    "            for number in old_columns:\n",
    "                old_cell = old_sheet.cell(row=idx, column=number)\n",
    "                if type(old_cell.value) in (int, float):\n",
    "                    value += old_cell.value\n",
    "            if float(value) != 0:\n",
    "                fees_cell.value = value\n",
    "        copy_cell_style(fees_cell, old_cell)\n",
    "        # Return to Client Ded Amount\n",
    "        rtc_cell = new_sheet.cell(row=idx, column=17)\n",
    "        old_cell = old_sheet.cell(row=idx, column=title_map['Return to Client DedAmount'])\n",
    "        if \"employee name\" in str(cell_a.value).lower():\n",
    "            rtc_cell.value = 'Return to Client Ded Amount'\n",
    "        else:\n",
    "            rtc_cell.value = old_cell.value\n",
    "        # copy cell styles\n",
    "        copy_cell_style(rtc_cell, old_cell)\n",
    "        # Total Client Charges\n",
    "        total_cell = new_sheet.cell(row=idx, column=18)\n",
    "        old_cell = old_sheet.cell(row=idx, column=title_map['Amount DueAmount'])\n",
    "        if \"employee name\" in str(cell_a.value).lower():\n",
    "            total_cell.value = 'Amount Due'\n",
    "        else:\n",
    "            total_cell.value = old_cell.value\n",
    "        copy_cell_style(total_cell, old_cell)\n",
    "        \n",
    "        # copy row dimentions\n",
    "        new_sheet.row_dimensions[idx] = copy(old_sheet.row_dimensions[idx])\n",
    "    else:\n",
    "        # Only copy column 1\n",
    "        new_cell = new_sheet.cell(row=idx, column=1)\n",
    "        new_cell.value = cell_a.value\n",
    "        # copy cell styles\n",
    "        copy_cell_style(new_cell, cell_a)\n",
    "        # copy row dimentions\n",
    "        new_sheet.row_dimensions[idx] = copy(old_sheet.row_dimensions[idx])\n",
    "    if cell_a.value == \"Total\":\n",
    "        break_value = idx + 2\n",
    "    idx += 1\n",
    "    if idx == break_value:\n",
    "        break"
   ]
  },
  {
   "cell_type": "code",
   "execution_count": 17,
   "id": "2ed825d6-c849-40fb-b4ba-28bc65c2a1e5",
   "metadata": {},
   "outputs": [],
   "source": [
    "new_wb.save(filename = \"new_report.xlsx\")"
   ]
  }
 ],
 "metadata": {
  "kernelspec": {
   "display_name": "Python 3 (ipykernel)",
   "language": "python",
   "name": "python3"
  },
  "language_info": {
   "codemirror_mode": {
    "name": "ipython",
    "version": 3
   },
   "file_extension": ".py",
   "mimetype": "text/x-python",
   "name": "python",
   "nbconvert_exporter": "python",
   "pygments_lexer": "ipython3",
   "version": "3.9.0"
  }
 },
 "nbformat": 4,
 "nbformat_minor": 5
}
